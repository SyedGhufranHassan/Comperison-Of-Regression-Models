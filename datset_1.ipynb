{
 "cells": [
  {
   "cell_type": "markdown",
   "metadata": {},
   "source": [
    "Data Pre_Processing using Python Libraries:\n"
   ]
  },
  {
   "cell_type": "markdown",
   "metadata": {},
   "source": [
    "Import Python Libraries:"
   ]
  },
  {
   "cell_type": "code",
   "execution_count": null,
   "metadata": {},
   "outputs": [],
   "source": [
    "import numpy as np\n",
    "import pandas as pd\n",
    "import matplotlib.pyplot as plt"
   ]
  },
  {
   "cell_type": "markdown",
   "metadata": {},
   "source": [
    "Read CSV File:"
   ]
  },
  {
   "cell_type": "code",
   "execution_count": null,
   "metadata": {},
   "outputs": [],
   "source": [
    "df = pd.read_csv('Data.csv')"
   ]
  },
  {
   "cell_type": "markdown",
   "metadata": {},
   "source": [
    "Define In-dependent and dependent variables:"
   ]
  },
  {
   "cell_type": "code",
   "execution_count": null,
   "metadata": {},
   "outputs": [],
   "source": [
    "X = df.iloc[:, 0:-1].values\n",
    "Y =df.iloc[:, -1].values"
   ]
  },
  {
   "cell_type": "markdown",
   "metadata": {},
   "source": [
    "Filling missing values:"
   ]
  },
  {
   "cell_type": "code",
   "execution_count": null,
   "metadata": {},
   "outputs": [
    {
     "data": {
      "text/plain": [
       "array([['India', 34.0, 92000.0],\n",
       "       ['Sri lanka', 22.0, 25000.0],\n",
       "       ['China', 31.0, 74000.0],\n",
       "       ['Sri lanka', 29.0, 54857.142857142855],\n",
       "       ['China', 55.0, 98000.0],\n",
       "       ['India', 24.0, 30000.0],\n",
       "       ['Sri lanka', 28.0, 40000.0],\n",
       "       ['India', 33.714285714285715, 60000.0],\n",
       "       ['China', 51.0, 89000.0],\n",
       "       ['India', 44.0, 78000.0],\n",
       "       ['Sri lanka', 21.0, 20000.0],\n",
       "       ['China', 25.0, 30000.0],\n",
       "       ['India', 33.0, 45000.0],\n",
       "       ['India', 42.0, 65000.0],\n",
       "       ['Sri lanka', 33.0, 22000.0]], dtype=object)"
      ]
     },
     "execution_count": 27,
     "metadata": {},
     "output_type": "execute_result"
    }
   ],
   "source": [
    "from sklearn.impute import SimpleImputer\n",
    "imputer =SimpleImputer(strategy=\"mean\")\n",
    "X[:,[1,2]] = imputer.fit_transform(X[:,[1,2]])\n",
    "imputer =SimpleImputer(strategy=\"most_frequent\")\n",
    "X[:,[0]]  =imputer.fit_transform(X[:,[0]])\n",
    "X\n"
   ]
  },
  {
   "cell_type": "markdown",
   "metadata": {},
   "source": [
    "One-Hot-Encoder:"
   ]
  },
  {
   "cell_type": "code",
   "execution_count": null,
   "metadata": {},
   "outputs": [
    {
     "data": {
      "text/plain": [
       "array([1, 1, 1, 0, 1, 0, 0, 0, 1, 1, 0, 1, 1, 1, 0])"
      ]
     },
     "execution_count": 28,
     "metadata": {},
     "output_type": "execute_result"
    }
   ],
   "source": [
    "from sklearn.preprocessing import OneHotEncoder\n",
    "from sklearn.compose import ColumnTransformer\n",
    "from sklearn.preprocessing import LabelEncoder\n",
    "obj= ColumnTransformer([(\"Country\", OneHotEncoder(),[0])], remainder='passthrough')\n",
    "X =pd.DataFrame(obj.fit_transform(X))\n",
    "\n",
    "\n",
    "labelEncoder_y = LabelEncoder()\n",
    "Y = labelEncoder_y.fit_transform(Y)\n",
    "X\n",
    "Y\n"
   ]
  },
  {
   "cell_type": "markdown",
   "metadata": {},
   "source": [
    "Train Test Split:"
   ]
  },
  {
   "cell_type": "code",
   "execution_count": null,
   "metadata": {},
   "outputs": [],
   "source": [
    "from sklearn.model_selection import train_test_split\n",
    "X_train, X_test, Y_train, Y_test = train_test_split(X,Y, test_size = 0.3, random_state = 3)"
   ]
  },
  {
   "cell_type": "markdown",
   "metadata": {},
   "source": [
    "Min-Max Scaler:"
   ]
  },
  {
   "cell_type": "code",
   "execution_count": null,
   "metadata": {},
   "outputs": [
    {
     "name": "stdout",
     "output_type": "stream",
     "text": [
      "      0    1    2     3        4\n",
      "12  0.0  1.0  0.0  33.0  45000.0\n",
      "4   1.0  0.0  0.0  55.0  98000.0\n",
      "1   0.0  0.0  1.0  22.0  25000.0\n",
      "6   0.0  0.0  1.0  28.0  40000.0\n",
      "2   1.0  0.0  0.0  31.0  74000.0\n"
     ]
    }
   ],
   "source": [
    "from sklearn.preprocessing import MinMaxScaler\n",
    "s = MinMaxScaler()\n",
    "X_train_scaled = s.fit_transform(X_train)\n",
    "X_test_scaled = s.fit_transform(X_test)\n",
    "print(X_test)\n",
    "\n"
   ]
  },
  {
   "cell_type": "code",
   "execution_count": null,
   "metadata": {},
   "outputs": [],
   "source": [
    "\n",
    "from sklearn.linear_model import LinearRegression\n",
    "multi_linear_reg = LinearRegression()\n",
    "multi_linear_reg.fit(X_train_scaled,Y_train)\n",
    "y_pred_multi_linear_reg = multi_linear_reg.predict(X_test_scaled)\n"
   ]
  },
  {
   "cell_type": "code",
   "execution_count": null,
   "metadata": {},
   "outputs": [
    {
     "name": "stdout",
     "output_type": "stream",
     "text": [
      "Multi Linear Regression Results withOut Scaled:\n",
      "Mean Absolute Error: 0.4223964023007557\n",
      "Mean Squared Error: 0.3266820804083069\n",
      "R-Squared: -1.0417630025519178\n",
      "Adjusted R-Squared: 9.167052010207671\n"
     ]
    }
   ],
   "source": [
    "\n",
    "from sklearn.metrics import mean_absolute_error, mean_squared_error, r2_score\n",
    "mae_multi_linear_reg = mean_absolute_error(Y_test,Y_pred_multi_linear_reg)\n",
    "mse_multi_linear_reg = mean_squared_error(Y_test, Y_pred_multi_linear_reg)\n",
    "r2_multi_linear_reg = r2_score(Y_test,Y_pred_multi_linear_reg)\n",
    "adj_r2_multi_linear_reg = 1 - (1 - r2_multi_linear_reg) * (len(Y_test) - 1) / (len(Y_test) - X_test_scaled.shape[1] - 1)\n",
    "\n",
    "print(\"Multi Linear Regression Results withOut Scaled:\")\n",
    "print(f\"Mean Absolute Error: {mae_multi_linear_reg}\")\n",
    "print(f\"Mean Squared Error: {mse_multi_linear_reg}\")\n",
    "print(f\"R-Squared: {r2_multi_linear_reg}\")\n",
    "print(f\"Adjusted R-Squared: {adj_r2_multi_linear_reg}\")"
   ]
  }
 ],
 "metadata": {
  "kernelspec": {
   "display_name": "Python 3",
   "language": "python",
   "name": "python3"
  },
  "language_info": {
   "codemirror_mode": {
    "name": "ipython",
    "version": 3
   },
   "file_extension": ".py",
   "mimetype": "text/x-python",
   "name": "python",
   "nbconvert_exporter": "python",
   "pygments_lexer": "ipython3",
   "version": "3.12.2"
  }
 },
 "nbformat": 4,
 "nbformat_minor": 2
}
