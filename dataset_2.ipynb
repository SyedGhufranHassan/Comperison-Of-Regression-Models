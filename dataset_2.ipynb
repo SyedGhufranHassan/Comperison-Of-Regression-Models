{
 "cells": [
  {
   "cell_type": "code",
   "execution_count": 173,
   "metadata": {},
   "outputs": [],
   "source": [
    "import numpy as np\n",
    "import matplotlib.pyplot as plt\n",
    "import pandas as pd\n"
   ]
  },
  {
   "cell_type": "code",
   "execution_count": 174,
   "metadata": {},
   "outputs": [],
   "source": [
    "dataset = pd.read_csv('50_Startups.csv') \n",
    "X = dataset.iloc[:, :-1].values\n",
    "y = dataset.iloc[:, 4].values"
   ]
  },
  {
   "cell_type": "code",
   "execution_count": 175,
   "metadata": {},
   "outputs": [],
   "source": [
    "X = dataset.iloc[:, :-1].values\n",
    "y = dataset.iloc[:, 4].values"
   ]
  },
  {
   "cell_type": "code",
   "execution_count": 176,
   "metadata": {},
   "outputs": [],
   "source": [
    "from sklearn.preprocessing import OneHotEncoder\n",
    "from sklearn.compose import ColumnTransformer\n",
    "#CHANGE THE INDEX FOR APPROPRIATE COLUMNS OF X\n",
    "ct = ColumnTransformer([(\"State\", OneHotEncoder(), [3])], remainder = 'passthrough')\n",
    "X = ct.fit_transform(X)\n"
   ]
  },
  {
   "cell_type": "code",
   "execution_count": 177,
   "metadata": {},
   "outputs": [],
   "source": [
    "from sklearn.model_selection import train_test_split\n",
    "X_train, X_test, y_train, y_test = train_test_split(X, y, test_size = 0.2 , random_state = 0)\n"
   ]
  },
  {
   "cell_type": "code",
   "execution_count": 178,
   "metadata": {},
   "outputs": [],
   "source": [
    "from sklearn.preprocessing import StandardScaler\n",
    "sc_X = StandardScaler()\n",
    "X_train_scaled= sc_X.fit_transform(X_train)\n",
    "X_test_scaled = sc_X.transform(X_test)"
   ]
  },
  {
   "cell_type": "code",
   "execution_count": 179,
   "metadata": {},
   "outputs": [],
   "source": [
    "from sklearn.linear_model import LinearRegression\n",
    "regressor = LinearRegression()\n",
    "regressor.fit(X_train_scaled, y_train)\n",
    "\n",
    "y_pred = regressor.predict(X_test_scaled)"
   ]
  },
  {
   "cell_type": "code",
   "execution_count": 181,
   "metadata": {},
   "outputs": [
    {
     "name": "stdout",
     "output_type": "stream",
     "text": [
      "Multi Linear Regression Results With Scaled:\n",
      "Mean Absolute Error: 7514.293659643239\n",
      "Mean Squared Error: 83502864.03263049\n",
      "R-Squared: 0.934706847328201\n",
      "Adjusted R-Squared: 0.8041205419846029\n"
     ]
    }
   ],
   "source": [
    "from sklearn.metrics import mean_absolute_error, mean_squared_error, r2_score\n",
    "mae_multi_linear_reg = mean_absolute_error(y_test,y_pred)\n",
    "mse_multi_linear_reg = mean_squared_error(y_test, y_pred)\n",
    "r2_multi_linear_reg = r2_score(y_test, y_pred)\n",
    "adj_r2_multi_linear_reg = 1 - (1 - r2_multi_linear_reg) * (len(y_test) - 1) / (len(y_test) - X_test_scaled.shape[1] - 1)\n",
    "\n",
    "print(\"Multi Linear Regression Results With Scaled:\")\n",
    "print(f\"Mean Absolute Error: {mae_multi_linear_reg}\")\n",
    "print(f\"Mean Squared Error: {mse_multi_linear_reg}\")\n",
    "print(f\"R-Squared: {r2_multi_linear_reg}\")\n",
    "print(f\"Adjusted R-Squared: {adj_r2_multi_linear_reg}\")"
   ]
  },
  {
   "cell_type": "code",
   "execution_count": null,
   "metadata": {},
   "outputs": [],
   "source": []
  }
 ],
 "metadata": {
  "kernelspec": {
   "display_name": "Python 3",
   "language": "python",
   "name": "python3"
  },
  "language_info": {
   "codemirror_mode": {
    "name": "ipython",
    "version": 3
   },
   "file_extension": ".py",
   "mimetype": "text/x-python",
   "name": "python",
   "nbconvert_exporter": "python",
   "pygments_lexer": "ipython3",
   "version": "3.12.2"
  }
 },
 "nbformat": 4,
 "nbformat_minor": 2
}
